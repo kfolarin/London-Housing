{
 "cells": [
  {
   "cell_type": "markdown",
   "id": "b9e5bf04-bf2a-4699-ab27-221b399d67b2",
   "metadata": {},
   "source": [
    "# Project Portfolio Analysis on London Housing Data"
   ]
  },
  {
   "attachments": {},
   "cell_type": "markdown",
   "id": "5e54b41f-f1b1-4262-8b92-a745bb5198c7",
   "metadata": {},
   "source": [
    "<img src = 'London  Housing.jpg' Style = 'width:200px;height:250px'>"
   ]
  },
  {
   "cell_type": "code",
   "execution_count": 1,
   "id": "71fc06df-8971-4d0a-b68c-b17867cff790",
   "metadata": {},
   "outputs": [],
   "source": [
    "import pandas as pd\n",
    "import seaborn as sns\n",
    "import matplotlib.pyplot as plt"
   ]
  },
  {
   "cell_type": "markdown",
   "id": "66599e4f-be09-4fd6-8fba-e90355dcf770",
   "metadata": {},
   "source": [
    "### Loading, performing exploratory data analysis and cleaning the dataset"
   ]
  },
  {
   "cell_type": "code",
   "execution_count": 2,
   "id": "f3b9c249-9a47-4cbc-ba6a-a4267c71a00a",
   "metadata": {},
   "outputs": [
    {
     "data": {
      "text/html": [
       "<div>\n",
       "<style scoped>\n",
       "    .dataframe tbody tr th:only-of-type {\n",
       "        vertical-align: middle;\n",
       "    }\n",
       "\n",
       "    .dataframe tbody tr th {\n",
       "        vertical-align: top;\n",
       "    }\n",
       "\n",
       "    .dataframe thead th {\n",
       "        text-align: right;\n",
       "    }\n",
       "</style>\n",
       "<table border=\"1\" class=\"dataframe\">\n",
       "  <thead>\n",
       "    <tr style=\"text-align: right;\">\n",
       "      <th></th>\n",
       "      <th>date</th>\n",
       "      <th>area</th>\n",
       "      <th>average_price</th>\n",
       "      <th>code</th>\n",
       "      <th>houses_sold</th>\n",
       "      <th>no_of_crimes</th>\n",
       "    </tr>\n",
       "  </thead>\n",
       "  <tbody>\n",
       "    <tr>\n",
       "      <th>0</th>\n",
       "      <td>1/1/1995</td>\n",
       "      <td>city of london</td>\n",
       "      <td>91449</td>\n",
       "      <td>E09000001</td>\n",
       "      <td>17.0</td>\n",
       "      <td>NaN</td>\n",
       "    </tr>\n",
       "    <tr>\n",
       "      <th>1</th>\n",
       "      <td>2/1/1995</td>\n",
       "      <td>city of london</td>\n",
       "      <td>82203</td>\n",
       "      <td>E09000001</td>\n",
       "      <td>7.0</td>\n",
       "      <td>NaN</td>\n",
       "    </tr>\n",
       "    <tr>\n",
       "      <th>2</th>\n",
       "      <td>3/1/1995</td>\n",
       "      <td>city of london</td>\n",
       "      <td>79121</td>\n",
       "      <td>E09000001</td>\n",
       "      <td>14.0</td>\n",
       "      <td>NaN</td>\n",
       "    </tr>\n",
       "    <tr>\n",
       "      <th>3</th>\n",
       "      <td>4/1/1995</td>\n",
       "      <td>city of london</td>\n",
       "      <td>77101</td>\n",
       "      <td>E09000001</td>\n",
       "      <td>7.0</td>\n",
       "      <td>NaN</td>\n",
       "    </tr>\n",
       "    <tr>\n",
       "      <th>4</th>\n",
       "      <td>5/1/1995</td>\n",
       "      <td>city of london</td>\n",
       "      <td>84409</td>\n",
       "      <td>E09000001</td>\n",
       "      <td>10.0</td>\n",
       "      <td>NaN</td>\n",
       "    </tr>\n",
       "  </tbody>\n",
       "</table>\n",
       "</div>"
      ],
      "text/plain": [
       "       date            area  average_price       code  houses_sold  \\\n",
       "0  1/1/1995  city of london          91449  E09000001         17.0   \n",
       "1  2/1/1995  city of london          82203  E09000001          7.0   \n",
       "2  3/1/1995  city of london          79121  E09000001         14.0   \n",
       "3  4/1/1995  city of london          77101  E09000001          7.0   \n",
       "4  5/1/1995  city of london          84409  E09000001         10.0   \n",
       "\n",
       "   no_of_crimes  \n",
       "0           NaN  \n",
       "1           NaN  \n",
       "2           NaN  \n",
       "3           NaN  \n",
       "4           NaN  "
      ]
     },
     "execution_count": 2,
     "metadata": {},
     "output_type": "execute_result"
    }
   ],
   "source": [
    "df = pd.read_csv('London Housing Data.csv')\n",
    "df.head()"
   ]
  },
  {
   "cell_type": "code",
   "execution_count": 3,
   "id": "b027790a-2e9c-43f2-a012-609928ee77e5",
   "metadata": {},
   "outputs": [
    {
     "name": "stdout",
     "output_type": "stream",
     "text": [
      "<class 'pandas.core.frame.DataFrame'>\n",
      "RangeIndex: 13549 entries, 0 to 13548\n",
      "Data columns (total 6 columns):\n",
      " #   Column         Non-Null Count  Dtype  \n",
      "---  ------         --------------  -----  \n",
      " 0   date           13549 non-null  object \n",
      " 1   area           13549 non-null  object \n",
      " 2   average_price  13549 non-null  int64  \n",
      " 3   code           13549 non-null  object \n",
      " 4   houses_sold    13455 non-null  float64\n",
      " 5   no_of_crimes   7439 non-null   float64\n",
      "dtypes: float64(2), int64(1), object(3)\n",
      "memory usage: 635.2+ KB\n"
     ]
    }
   ],
   "source": [
    "df.info()"
   ]
  },
  {
   "cell_type": "code",
   "execution_count": 4,
   "id": "d4f9e73c-d6b3-4539-a0be-cf022643bc3c",
   "metadata": {},
   "outputs": [
    {
     "name": "stdout",
     "output_type": "stream",
     "text": [
      "<class 'pandas.core.series.Series'>\n",
      "RangeIndex: 13549 entries, 0 to 13548\n",
      "Series name: date\n",
      "Non-Null Count  Dtype         \n",
      "--------------  -----         \n",
      "13549 non-null  datetime64[ns]\n",
      "dtypes: datetime64[ns](1)\n",
      "memory usage: 106.0 KB\n"
     ]
    }
   ],
   "source": [
    "df['date'] = pd.to_datetime(df['date'])\n",
    "df['date'].info()"
   ]
  },
  {
   "cell_type": "code",
   "execution_count": 5,
   "id": "54271eca-bdc7-45f8-8282-8922b14360b7",
   "metadata": {},
   "outputs": [],
   "source": [
    "df['year'] = df.date.dt.year"
   ]
  },
  {
   "cell_type": "code",
   "execution_count": 6,
   "id": "7f16e29a-87a0-4440-b33f-7c3beb770c2d",
   "metadata": {},
   "outputs": [],
   "source": [
    "df['year'] = df['date'].dt.year"
   ]
  },
  {
   "cell_type": "code",
   "execution_count": 7,
   "id": "960ba5f4-1e18-46e0-b283-ff0d632c28d7",
   "metadata": {},
   "outputs": [
    {
     "data": {
      "text/html": [
       "<div>\n",
       "<style scoped>\n",
       "    .dataframe tbody tr th:only-of-type {\n",
       "        vertical-align: middle;\n",
       "    }\n",
       "\n",
       "    .dataframe tbody tr th {\n",
       "        vertical-align: top;\n",
       "    }\n",
       "\n",
       "    .dataframe thead th {\n",
       "        text-align: right;\n",
       "    }\n",
       "</style>\n",
       "<table border=\"1\" class=\"dataframe\">\n",
       "  <thead>\n",
       "    <tr style=\"text-align: right;\">\n",
       "      <th></th>\n",
       "      <th>date</th>\n",
       "      <th>area</th>\n",
       "      <th>average_price</th>\n",
       "      <th>code</th>\n",
       "      <th>houses_sold</th>\n",
       "      <th>no_of_crimes</th>\n",
       "      <th>year</th>\n",
       "    </tr>\n",
       "  </thead>\n",
       "  <tbody>\n",
       "    <tr>\n",
       "      <th>0</th>\n",
       "      <td>1995-01-01</td>\n",
       "      <td>city of london</td>\n",
       "      <td>91449</td>\n",
       "      <td>E09000001</td>\n",
       "      <td>17.0</td>\n",
       "      <td>NaN</td>\n",
       "      <td>1995</td>\n",
       "    </tr>\n",
       "  </tbody>\n",
       "</table>\n",
       "</div>"
      ],
      "text/plain": [
       "        date            area  average_price       code  houses_sold  \\\n",
       "0 1995-01-01  city of london          91449  E09000001         17.0   \n",
       "\n",
       "   no_of_crimes  year  \n",
       "0           NaN  1995  "
      ]
     },
     "execution_count": 7,
     "metadata": {},
     "output_type": "execute_result"
    }
   ],
   "source": [
    "df.head(1)"
   ]
  },
  {
   "cell_type": "code",
   "execution_count": 8,
   "id": "33d7ceaf-83c8-4432-8c68-db9dfbb4d846",
   "metadata": {},
   "outputs": [],
   "source": [
    "df['month'] = df['date'].dt.month"
   ]
  },
  {
   "cell_type": "code",
   "execution_count": 9,
   "id": "97fc8926-ec3d-4f7e-b0a8-fd8d16bd1883",
   "metadata": {},
   "outputs": [
    {
     "data": {
      "text/html": [
       "<div>\n",
       "<style scoped>\n",
       "    .dataframe tbody tr th:only-of-type {\n",
       "        vertical-align: middle;\n",
       "    }\n",
       "\n",
       "    .dataframe tbody tr th {\n",
       "        vertical-align: top;\n",
       "    }\n",
       "\n",
       "    .dataframe thead th {\n",
       "        text-align: right;\n",
       "    }\n",
       "</style>\n",
       "<table border=\"1\" class=\"dataframe\">\n",
       "  <thead>\n",
       "    <tr style=\"text-align: right;\">\n",
       "      <th></th>\n",
       "      <th>date</th>\n",
       "      <th>area</th>\n",
       "      <th>average_price</th>\n",
       "      <th>code</th>\n",
       "      <th>houses_sold</th>\n",
       "      <th>no_of_crimes</th>\n",
       "      <th>year</th>\n",
       "      <th>month</th>\n",
       "    </tr>\n",
       "  </thead>\n",
       "  <tbody>\n",
       "    <tr>\n",
       "      <th>0</th>\n",
       "      <td>1995-01-01</td>\n",
       "      <td>city of london</td>\n",
       "      <td>91449</td>\n",
       "      <td>E09000001</td>\n",
       "      <td>17.0</td>\n",
       "      <td>NaN</td>\n",
       "      <td>1995</td>\n",
       "      <td>1</td>\n",
       "    </tr>\n",
       "  </tbody>\n",
       "</table>\n",
       "</div>"
      ],
      "text/plain": [
       "        date            area  average_price       code  houses_sold  \\\n",
       "0 1995-01-01  city of london          91449  E09000001         17.0   \n",
       "\n",
       "   no_of_crimes  year  month  \n",
       "0           NaN  1995      1  "
      ]
     },
     "execution_count": 9,
     "metadata": {},
     "output_type": "execute_result"
    }
   ],
   "source": [
    "df.head(1)"
   ]
  },
  {
   "cell_type": "code",
   "execution_count": 10,
   "id": "c52418a7-c0a8-4e2d-b430-089ebdc5da9f",
   "metadata": {},
   "outputs": [
    {
     "data": {
      "text/html": [
       "<div>\n",
       "<style scoped>\n",
       "    .dataframe tbody tr th:only-of-type {\n",
       "        vertical-align: middle;\n",
       "    }\n",
       "\n",
       "    .dataframe tbody tr th {\n",
       "        vertical-align: top;\n",
       "    }\n",
       "\n",
       "    .dataframe thead th {\n",
       "        text-align: right;\n",
       "    }\n",
       "</style>\n",
       "<table border=\"1\" class=\"dataframe\">\n",
       "  <thead>\n",
       "    <tr style=\"text-align: right;\">\n",
       "      <th></th>\n",
       "      <th>date</th>\n",
       "      <th>average_price</th>\n",
       "      <th>houses_sold</th>\n",
       "      <th>no_of_crimes</th>\n",
       "      <th>year</th>\n",
       "      <th>month</th>\n",
       "    </tr>\n",
       "  </thead>\n",
       "  <tbody>\n",
       "    <tr>\n",
       "      <th>count</th>\n",
       "      <td>13549</td>\n",
       "      <td>1.354900e+04</td>\n",
       "      <td>13455.000000</td>\n",
       "      <td>7439.000000</td>\n",
       "      <td>13549.000000</td>\n",
       "      <td>13549.000000</td>\n",
       "    </tr>\n",
       "    <tr>\n",
       "      <th>mean</th>\n",
       "      <td>2007-06-30 22:12:58.507638784</td>\n",
       "      <td>2.635197e+05</td>\n",
       "      <td>3893.994129</td>\n",
       "      <td>2158.352063</td>\n",
       "      <td>2007.040224</td>\n",
       "      <td>6.480700</td>\n",
       "    </tr>\n",
       "    <tr>\n",
       "      <th>min</th>\n",
       "      <td>1995-01-01 00:00:00</td>\n",
       "      <td>4.072200e+04</td>\n",
       "      <td>2.000000</td>\n",
       "      <td>0.000000</td>\n",
       "      <td>1995.000000</td>\n",
       "      <td>1.000000</td>\n",
       "    </tr>\n",
       "    <tr>\n",
       "      <th>25%</th>\n",
       "      <td>2001-04-01 00:00:00</td>\n",
       "      <td>1.323800e+05</td>\n",
       "      <td>247.000000</td>\n",
       "      <td>1623.000000</td>\n",
       "      <td>2001.000000</td>\n",
       "      <td>3.000000</td>\n",
       "    </tr>\n",
       "    <tr>\n",
       "      <th>50%</th>\n",
       "      <td>2007-07-01 00:00:00</td>\n",
       "      <td>2.229190e+05</td>\n",
       "      <td>371.000000</td>\n",
       "      <td>2132.000000</td>\n",
       "      <td>2007.000000</td>\n",
       "      <td>6.000000</td>\n",
       "    </tr>\n",
       "    <tr>\n",
       "      <th>75%</th>\n",
       "      <td>2013-10-01 00:00:00</td>\n",
       "      <td>3.368430e+05</td>\n",
       "      <td>3146.000000</td>\n",
       "      <td>2582.000000</td>\n",
       "      <td>2013.000000</td>\n",
       "      <td>9.000000</td>\n",
       "    </tr>\n",
       "    <tr>\n",
       "      <th>max</th>\n",
       "      <td>2020-01-01 00:00:00</td>\n",
       "      <td>1.463378e+06</td>\n",
       "      <td>132163.000000</td>\n",
       "      <td>7461.000000</td>\n",
       "      <td>2020.000000</td>\n",
       "      <td>12.000000</td>\n",
       "    </tr>\n",
       "    <tr>\n",
       "      <th>std</th>\n",
       "      <td>NaN</td>\n",
       "      <td>1.876175e+05</td>\n",
       "      <td>12114.402476</td>\n",
       "      <td>902.087742</td>\n",
       "      <td>7.239151</td>\n",
       "      <td>3.460991</td>\n",
       "    </tr>\n",
       "  </tbody>\n",
       "</table>\n",
       "</div>"
      ],
      "text/plain": [
       "                                date  average_price    houses_sold  \\\n",
       "count                          13549   1.354900e+04   13455.000000   \n",
       "mean   2007-06-30 22:12:58.507638784   2.635197e+05    3893.994129   \n",
       "min              1995-01-01 00:00:00   4.072200e+04       2.000000   \n",
       "25%              2001-04-01 00:00:00   1.323800e+05     247.000000   \n",
       "50%              2007-07-01 00:00:00   2.229190e+05     371.000000   \n",
       "75%              2013-10-01 00:00:00   3.368430e+05    3146.000000   \n",
       "max              2020-01-01 00:00:00   1.463378e+06  132163.000000   \n",
       "std                              NaN   1.876175e+05   12114.402476   \n",
       "\n",
       "       no_of_crimes          year         month  \n",
       "count   7439.000000  13549.000000  13549.000000  \n",
       "mean    2158.352063   2007.040224      6.480700  \n",
       "min        0.000000   1995.000000      1.000000  \n",
       "25%     1623.000000   2001.000000      3.000000  \n",
       "50%     2132.000000   2007.000000      6.000000  \n",
       "75%     2582.000000   2013.000000      9.000000  \n",
       "max     7461.000000   2020.000000     12.000000  \n",
       "std      902.087742      7.239151      3.460991  "
      ]
     },
     "execution_count": 10,
     "metadata": {},
     "output_type": "execute_result"
    }
   ],
   "source": [
    "df.describe()"
   ]
  },
  {
   "cell_type": "code",
   "execution_count": 11,
   "id": "6239523f-5e60-4267-ab5d-0e8bd38f7343",
   "metadata": {},
   "outputs": [
    {
     "data": {
      "text/html": [
       "<div>\n",
       "<style scoped>\n",
       "    .dataframe tbody tr th:only-of-type {\n",
       "        vertical-align: middle;\n",
       "    }\n",
       "\n",
       "    .dataframe tbody tr th {\n",
       "        vertical-align: top;\n",
       "    }\n",
       "\n",
       "    .dataframe thead th {\n",
       "        text-align: right;\n",
       "    }\n",
       "</style>\n",
       "<table border=\"1\" class=\"dataframe\">\n",
       "  <thead>\n",
       "    <tr style=\"text-align: right;\">\n",
       "      <th></th>\n",
       "      <th>area</th>\n",
       "      <th>code</th>\n",
       "    </tr>\n",
       "  </thead>\n",
       "  <tbody>\n",
       "    <tr>\n",
       "      <th>count</th>\n",
       "      <td>13549</td>\n",
       "      <td>13549</td>\n",
       "    </tr>\n",
       "    <tr>\n",
       "      <th>unique</th>\n",
       "      <td>45</td>\n",
       "      <td>45</td>\n",
       "    </tr>\n",
       "    <tr>\n",
       "      <th>top</th>\n",
       "      <td>hackney</td>\n",
       "      <td>E09000012</td>\n",
       "    </tr>\n",
       "    <tr>\n",
       "      <th>freq</th>\n",
       "      <td>302</td>\n",
       "      <td>302</td>\n",
       "    </tr>\n",
       "  </tbody>\n",
       "</table>\n",
       "</div>"
      ],
      "text/plain": [
       "           area       code\n",
       "count     13549      13549\n",
       "unique       45         45\n",
       "top     hackney  E09000012\n",
       "freq        302        302"
      ]
     },
     "execution_count": 11,
     "metadata": {},
     "output_type": "execute_result"
    }
   ],
   "source": [
    "df.describe(include = 'object')"
   ]
  },
  {
   "cell_type": "code",
   "execution_count": 12,
   "id": "0072febf-9081-42c1-b92c-b6a204b14c1e",
   "metadata": {},
   "outputs": [
    {
     "data": {
      "text/plain": [
       "Index(['date', 'area', 'average_price', 'code', 'houses_sold', 'no_of_crimes',\n",
       "       'year', 'month'],\n",
       "      dtype='object')"
      ]
     },
     "execution_count": 12,
     "metadata": {},
     "output_type": "execute_result"
    }
   ],
   "source": [
    "df.columns"
   ]
  },
  {
   "cell_type": "code",
   "execution_count": 13,
   "id": "523066b9-31db-44d3-8656-a4c21193c254",
   "metadata": {},
   "outputs": [
    {
     "name": "stdout",
     "output_type": "stream",
     "text": [
      "Number of Places with No Crime is:  104\n",
      "Number of Places with Crime is:  13549\n"
     ]
    }
   ],
   "source": [
    "No_Crime = len(df[df['no_of_crimes'] == 0])\n",
    "No_Crime\n",
    "print('Number of Places with No Crime is: ', No_Crime)\n",
    "Crime = len(df[df['no_of_crimes'] != 1])\n",
    "No_Crime\n",
    "print('Number of Places with Crime is: ', Crime)"
   ]
  },
  {
   "cell_type": "markdown",
   "id": "8ee54703-e780-44f1-bc18-b1465181631b",
   "metadata": {},
   "source": [
    "## Top 10 Areas with higest Crimes"
   ]
  },
  {
   "cell_type": "code",
   "execution_count": 14,
   "id": "38227e62-1247-47cb-a10d-9a518abfca4f",
   "metadata": {},
   "outputs": [
    {
     "data": {
      "text/html": [
       "<div>\n",
       "<style scoped>\n",
       "    .dataframe tbody tr th:only-of-type {\n",
       "        vertical-align: middle;\n",
       "    }\n",
       "\n",
       "    .dataframe tbody tr th {\n",
       "        vertical-align: top;\n",
       "    }\n",
       "\n",
       "    .dataframe thead th {\n",
       "        text-align: right;\n",
       "    }\n",
       "</style>\n",
       "<table border=\"1\" class=\"dataframe\">\n",
       "  <thead>\n",
       "    <tr style=\"text-align: right;\">\n",
       "      <th></th>\n",
       "      <th>no_of_crimes</th>\n",
       "    </tr>\n",
       "    <tr>\n",
       "      <th>area</th>\n",
       "      <th></th>\n",
       "    </tr>\n",
       "  </thead>\n",
       "  <tbody>\n",
       "    <tr>\n",
       "      <th>westminster</th>\n",
       "      <td>1211743.0</td>\n",
       "    </tr>\n",
       "    <tr>\n",
       "      <th>lambeth</th>\n",
       "      <td>719454.0</td>\n",
       "    </tr>\n",
       "    <tr>\n",
       "      <th>camden</th>\n",
       "      <td>699955.0</td>\n",
       "    </tr>\n",
       "    <tr>\n",
       "      <th>southwark</th>\n",
       "      <td>693541.0</td>\n",
       "    </tr>\n",
       "    <tr>\n",
       "      <th>newham</th>\n",
       "      <td>652978.0</td>\n",
       "    </tr>\n",
       "    <tr>\n",
       "      <th>croydon</th>\n",
       "      <td>607524.0</td>\n",
       "    </tr>\n",
       "    <tr>\n",
       "      <th>ealing</th>\n",
       "      <td>597017.0</td>\n",
       "    </tr>\n",
       "    <tr>\n",
       "      <th>hackney</th>\n",
       "      <td>589847.0</td>\n",
       "    </tr>\n",
       "    <tr>\n",
       "      <th>tower hamlets</th>\n",
       "      <td>582176.0</td>\n",
       "    </tr>\n",
       "    <tr>\n",
       "      <th>islington</th>\n",
       "      <td>576162.0</td>\n",
       "    </tr>\n",
       "  </tbody>\n",
       "</table>\n",
       "</div>"
      ],
      "text/plain": [
       "               no_of_crimes\n",
       "area                       \n",
       "westminster       1211743.0\n",
       "lambeth            719454.0\n",
       "camden             699955.0\n",
       "southwark          693541.0\n",
       "newham             652978.0\n",
       "croydon            607524.0\n",
       "ealing             597017.0\n",
       "hackney            589847.0\n",
       "tower hamlets      582176.0\n",
       "islington          576162.0"
      ]
     },
     "execution_count": 14,
     "metadata": {},
     "output_type": "execute_result"
    }
   ],
   "source": [
    "Low_Crime_Areas = pd.DataFrame(df.groupby('area')['no_of_crimes'].sum().sort_values(ascending = False))\n",
    "Low_Crime_Areas = Low_Crime_Areas.head(10)\n",
    "Low_Crime_Areas"
   ]
  },
  {
   "cell_type": "code",
   "execution_count": 15,
   "id": "53d10d7a-375b-46d9-843d-9b2d8c6fc614",
   "metadata": {},
   "outputs": [
    {
     "data": {
      "text/plain": [
       "area\n",
       "westminster      1211743.0\n",
       "lambeth           719454.0\n",
       "camden            699955.0\n",
       "southwark         693541.0\n",
       "newham            652978.0\n",
       "croydon           607524.0\n",
       "ealing            597017.0\n",
       "hackney           589847.0\n",
       "tower hamlets     582176.0\n",
       "islington         576162.0\n",
       "Name: no_of_crimes, dtype: float64"
      ]
     },
     "execution_count": 15,
     "metadata": {},
     "output_type": "execute_result"
    }
   ],
   "source": [
    "Low_Crime_Areas = df.groupby('area')['no_of_crimes'].sum().sort_values(ascending = False)\n",
    "Low_Crime_Areas = Low_Crime_Areas.head(10)\n",
    "Low_Crime_Areas"
   ]
  },
  {
   "cell_type": "code",
   "execution_count": 16,
   "id": "b03e4e92-339b-4904-87c3-9cc749cfacea",
   "metadata": {
    "scrolled": true
   },
   "outputs": [
    {
     "data": {
      "image/png": "[encoded data removed]",
      "text/plain": [
       "<Figure size 400x400 with 1 Axes>"
      ]
     },
     "metadata": {},
     "output_type": "display_data"
    }
   ],
   "source": [
    "plt.figure(figsize = (4, 4))\n",
    "Low_Crime_Areas.plot(kind = 'bar', color = ['r', 'b', 'g', 'y', 'orange', 'gold'])\n",
    "plt.title('Top 10 Highest-Crime Areas')\n",
    "plt.ylabel('Count of Crimes in Millions')\n",
    "plt.xlabel('Areas with the highest crimes')\n",
    "plt.show()"
   ]
  },
  {
   "cell_type": "markdown",
   "id": "e176739b-7f7f-48a9-b820-714f6466a09c",
   "metadata": {},
   "source": [
    "### Areas with the highest crime were topped by Westminster, followed by Lambeth, then Camden etc."
   ]
  },
  {
   "cell_type": "code",
   "execution_count": 17,
   "id": "b67ded46-9c61-4d32-a03d-e8f591763182",
   "metadata": {},
   "outputs": [
    {
     "data": {
      "text/html": [
       "<div>\n",
       "<style scoped>\n",
       "    .dataframe tbody tr th:only-of-type {\n",
       "        vertical-align: middle;\n",
       "    }\n",
       "\n",
       "    .dataframe tbody tr th {\n",
       "        vertical-align: top;\n",
       "    }\n",
       "\n",
       "    .dataframe thead th {\n",
       "        text-align: right;\n",
       "    }\n",
       "</style>\n",
       "<table border=\"1\" class=\"dataframe\">\n",
       "  <thead>\n",
       "    <tr style=\"text-align: right;\">\n",
       "      <th></th>\n",
       "      <th>date</th>\n",
       "      <th>area</th>\n",
       "      <th>average_price</th>\n",
       "      <th>code</th>\n",
       "      <th>houses_sold</th>\n",
       "      <th>no_of_crimes</th>\n",
       "      <th>year</th>\n",
       "      <th>month</th>\n",
       "    </tr>\n",
       "  </thead>\n",
       "  <tbody>\n",
       "    <tr>\n",
       "      <th>0</th>\n",
       "      <td>1995-01-01</td>\n",
       "      <td>city of london</td>\n",
       "      <td>91449</td>\n",
       "      <td>E09000001</td>\n",
       "      <td>17.0</td>\n",
       "      <td>NaN</td>\n",
       "      <td>1995</td>\n",
       "      <td>1</td>\n",
       "    </tr>\n",
       "  </tbody>\n",
       "</table>\n",
       "</div>"
      ],
      "text/plain": [
       "        date            area  average_price       code  houses_sold  \\\n",
       "0 1995-01-01  city of london          91449  E09000001         17.0   \n",
       "\n",
       "   no_of_crimes  year  month  \n",
       "0           NaN  1995      1  "
      ]
     },
     "execution_count": 17,
     "metadata": {},
     "output_type": "execute_result"
    }
   ],
   "source": [
    "df.head(1)"
   ]
  },
  {
   "cell_type": "markdown",
   "id": "94bfe915-0949-47a2-8321-c5e531f8ca0a",
   "metadata": {},
   "source": [
    "## Areas with the highest house sales"
   ]
  },
  {
   "cell_type": "code",
   "execution_count": 18,
   "id": "e4d22037-b17f-4162-8fe4-d9f3912f3757",
   "metadata": {},
   "outputs": [
    {
     "data": {
      "text/html": [
       "<div>\n",
       "<style scoped>\n",
       "    .dataframe tbody tr th:only-of-type {\n",
       "        vertical-align: middle;\n",
       "    }\n",
       "\n",
       "    .dataframe tbody tr th {\n",
       "        vertical-align: top;\n",
       "    }\n",
       "\n",
       "    .dataframe thead th {\n",
       "        text-align: right;\n",
       "    }\n",
       "</style>\n",
       "<table border=\"1\" class=\"dataframe\">\n",
       "  <thead>\n",
       "    <tr style=\"text-align: right;\">\n",
       "      <th></th>\n",
       "      <th>houses_sold</th>\n",
       "    </tr>\n",
       "    <tr>\n",
       "      <th>area</th>\n",
       "      <th></th>\n",
       "    </tr>\n",
       "  </thead>\n",
       "  <tbody>\n",
       "    <tr>\n",
       "      <th>england</th>\n",
       "      <td>23077637.0</td>\n",
       "    </tr>\n",
       "    <tr>\n",
       "      <th>south east</th>\n",
       "      <td>4195116.0</td>\n",
       "    </tr>\n",
       "    <tr>\n",
       "      <th>london</th>\n",
       "      <td>3134378.0</td>\n",
       "    </tr>\n",
       "    <tr>\n",
       "      <th>north west</th>\n",
       "      <td>2895280.0</td>\n",
       "    </tr>\n",
       "    <tr>\n",
       "      <th>east of england</th>\n",
       "      <td>2809800.0</td>\n",
       "    </tr>\n",
       "    <tr>\n",
       "      <th>south west</th>\n",
       "      <td>2639661.0</td>\n",
       "    </tr>\n",
       "    <tr>\n",
       "      <th>yorks and the humber</th>\n",
       "      <td>2183762.0</td>\n",
       "    </tr>\n",
       "    <tr>\n",
       "      <th>west midlands</th>\n",
       "      <td>2128978.0</td>\n",
       "    </tr>\n",
       "    <tr>\n",
       "      <th>east midlands</th>\n",
       "      <td>2033724.0</td>\n",
       "    </tr>\n",
       "    <tr>\n",
       "      <th>outer london</th>\n",
       "      <td>1897009.0</td>\n",
       "    </tr>\n",
       "    <tr>\n",
       "      <th>inner london</th>\n",
       "      <td>1233831.0</td>\n",
       "    </tr>\n",
       "    <tr>\n",
       "      <th>north east</th>\n",
       "      <td>1033675.0</td>\n",
       "    </tr>\n",
       "    <tr>\n",
       "      <th>wandsworth</th>\n",
       "      <td>163871.0</td>\n",
       "    </tr>\n",
       "    <tr>\n",
       "      <th>bromley</th>\n",
       "      <td>148516.0</td>\n",
       "    </tr>\n",
       "    <tr>\n",
       "      <th>croydon</th>\n",
       "      <td>145906.0</td>\n",
       "    </tr>\n",
       "    <tr>\n",
       "      <th>barnet</th>\n",
       "      <td>133648.0</td>\n",
       "    </tr>\n",
       "    <tr>\n",
       "      <th>lambeth</th>\n",
       "      <td>117953.0</td>\n",
       "    </tr>\n",
       "    <tr>\n",
       "      <th>enfield</th>\n",
       "      <td>115249.0</td>\n",
       "    </tr>\n",
       "    <tr>\n",
       "      <th>ealing</th>\n",
       "      <td>110042.0</td>\n",
       "    </tr>\n",
       "    <tr>\n",
       "      <th>lewisham</th>\n",
       "      <td>108123.0</td>\n",
       "    </tr>\n",
       "  </tbody>\n",
       "</table>\n",
       "</div>"
      ],
      "text/plain": [
       "                      houses_sold\n",
       "area                             \n",
       "england                23077637.0\n",
       "south east              4195116.0\n",
       "london                  3134378.0\n",
       "north west              2895280.0\n",
       "east of england         2809800.0\n",
       "south west              2639661.0\n",
       "yorks and the humber    2183762.0\n",
       "west midlands           2128978.0\n",
       "east midlands           2033724.0\n",
       "outer london            1897009.0\n",
       "inner london            1233831.0\n",
       "north east              1033675.0\n",
       "wandsworth               163871.0\n",
       "bromley                  148516.0\n",
       "croydon                  145906.0\n",
       "barnet                   133648.0\n",
       "lambeth                  117953.0\n",
       "enfield                  115249.0\n",
       "ealing                   110042.0\n",
       "lewisham                 108123.0"
      ]
     },
     "execution_count": 18,
     "metadata": {},
     "output_type": "execute_result"
    }
   ],
   "source": [
    "Area_Houses_Sold = pd.DataFrame(df.groupby('area')['houses_sold'].sum().sort_values(ascending = False))[:20]\n",
    "Area_Houses_Sold"
   ]
  },
  {
   "cell_type": "code",
   "execution_count": 19,
   "id": "c01a1440-b4a4-44e2-98da-eff3a7e69d26",
   "metadata": {},
   "outputs": [
    {
     "data": {
      "text/plain": [
       "area\n",
       "england                 23077637.0\n",
       "south east               4195116.0\n",
       "london                   3134378.0\n",
       "north west               2895280.0\n",
       "east of england          2809800.0\n",
       "south west               2639661.0\n",
       "yorks and the humber     2183762.0\n",
       "west midlands            2128978.0\n",
       "east midlands            2033724.0\n",
       "outer london             1897009.0\n",
       "inner london             1233831.0\n",
       "north east               1033675.0\n",
       "wandsworth                163871.0\n",
       "bromley                   148516.0\n",
       "croydon                   145906.0\n",
       "barnet                    133648.0\n",
       "lambeth                   117953.0\n",
       "enfield                   115249.0\n",
       "ealing                    110042.0\n",
       "lewisham                  108123.0\n",
       "Name: houses_sold, dtype: float64"
      ]
     },
     "execution_count": 19,
     "metadata": {},
     "output_type": "execute_result"
    }
   ],
   "source": [
    "Area_Houses_Sold = df.groupby('area')['houses_sold'].sum().sort_values(ascending = False)[:20]\n",
    "Area_Houses_Sold"
   ]
  },
  {
   "cell_type": "code",
   "execution_count": 20,
   "id": "202e1599-77d1-467c-9b4b-74c70ce23032",
   "metadata": {},
   "outputs": [
    {
     "data": {
      "image/png": "[encoded data removed]",
      "text/plain": [
       "<Figure size 700x400 with 1 Axes>"
      ]
     },
     "metadata": {},
     "output_type": "display_data"
    }
   ],
   "source": [
    "plt.figure(figsize = (7, 4))\n",
    "Area_Houses_Sold.plot(kind = 'barh', color = ['r', 'b', 'g', 'orange', 'gold', 'pink', 'cyan', 'black', 'magenta'], fontsize = 8)\n",
    "plt.title('20 Top Areas Where Houses Were Sold The Most')\n",
    "plt.xlabel('House Sold in Tens of Millions')\n",
    "plt.ylabel('Areas Were Houses Are Sold')\n",
    "plt.show()"
   ]
  },
  {
   "cell_type": "markdown",
   "id": "6b703be4-87bb-4365-8513-2f078142abfa",
   "metadata": {},
   "source": [
    "### England witnessed the most sold houses, next by South East and London before other areas."
   ]
  },
  {
   "cell_type": "markdown",
   "id": "f3e7f902-07b5-40e6-9190-ba70ca11e1af",
   "metadata": {},
   "source": [
    "## Areas with the lowest houses sold"
   ]
  },
  {
   "cell_type": "code",
   "execution_count": 21,
   "id": "65518326-5bf8-4511-9144-131dfbfcb87c",
   "metadata": {},
   "outputs": [
    {
     "data": {
      "text/html": [
       "<div>\n",
       "<style scoped>\n",
       "    .dataframe tbody tr th:only-of-type {\n",
       "        vertical-align: middle;\n",
       "    }\n",
       "\n",
       "    .dataframe tbody tr th {\n",
       "        vertical-align: top;\n",
       "    }\n",
       "\n",
       "    .dataframe thead th {\n",
       "        text-align: right;\n",
       "    }\n",
       "</style>\n",
       "<table border=\"1\" class=\"dataframe\">\n",
       "  <thead>\n",
       "    <tr style=\"text-align: right;\">\n",
       "      <th></th>\n",
       "      <th>houses_sold</th>\n",
       "    </tr>\n",
       "    <tr>\n",
       "      <th>area</th>\n",
       "      <th></th>\n",
       "    </tr>\n",
       "  </thead>\n",
       "  <tbody>\n",
       "    <tr>\n",
       "      <th>city of london</th>\n",
       "      <td>7586.0</td>\n",
       "    </tr>\n",
       "    <tr>\n",
       "      <th>barking and dagenham</th>\n",
       "      <td>59498.0</td>\n",
       "    </tr>\n",
       "    <tr>\n",
       "      <th>hackney</th>\n",
       "      <td>65356.0</td>\n",
       "    </tr>\n",
       "    <tr>\n",
       "      <th>islington</th>\n",
       "      <td>68271.0</td>\n",
       "    </tr>\n",
       "    <tr>\n",
       "      <th>camden</th>\n",
       "      <td>74362.0</td>\n",
       "    </tr>\n",
       "    <tr>\n",
       "      <th>hammersmith and fulham</th>\n",
       "      <td>75518.0</td>\n",
       "    </tr>\n",
       "    <tr>\n",
       "      <th>kingston upon thames</th>\n",
       "      <td>75627.0</td>\n",
       "    </tr>\n",
       "    <tr>\n",
       "      <th>kensington and chelsea</th>\n",
       "      <td>77128.0</td>\n",
       "    </tr>\n",
       "    <tr>\n",
       "      <th>harrow</th>\n",
       "      <td>78921.0</td>\n",
       "    </tr>\n",
       "    <tr>\n",
       "      <th>haringey</th>\n",
       "      <td>81162.0</td>\n",
       "    </tr>\n",
       "    <tr>\n",
       "      <th>brent</th>\n",
       "      <td>81613.0</td>\n",
       "    </tr>\n",
       "    <tr>\n",
       "      <th>hounslow</th>\n",
       "      <td>85472.0</td>\n",
       "    </tr>\n",
       "    <tr>\n",
       "      <th>newham</th>\n",
       "      <td>86236.0</td>\n",
       "    </tr>\n",
       "    <tr>\n",
       "      <th>merton</th>\n",
       "      <td>87262.0</td>\n",
       "    </tr>\n",
       "    <tr>\n",
       "      <th>sutton</th>\n",
       "      <td>91399.0</td>\n",
       "    </tr>\n",
       "    <tr>\n",
       "      <th>waltham forest</th>\n",
       "      <td>92938.0</td>\n",
       "    </tr>\n",
       "    <tr>\n",
       "      <th>greenwich</th>\n",
       "      <td>94126.0</td>\n",
       "    </tr>\n",
       "    <tr>\n",
       "      <th>havering</th>\n",
       "      <td>95135.0</td>\n",
       "    </tr>\n",
       "    <tr>\n",
       "      <th>richmond upon thames</th>\n",
       "      <td>97074.0</td>\n",
       "    </tr>\n",
       "    <tr>\n",
       "      <th>bexley</th>\n",
       "      <td>97351.0</td>\n",
       "    </tr>\n",
       "  </tbody>\n",
       "</table>\n",
       "</div>"
      ],
      "text/plain": [
       "                        houses_sold\n",
       "area                               \n",
       "city of london               7586.0\n",
       "barking and dagenham        59498.0\n",
       "hackney                     65356.0\n",
       "islington                   68271.0\n",
       "camden                      74362.0\n",
       "hammersmith and fulham      75518.0\n",
       "kingston upon thames        75627.0\n",
       "kensington and chelsea      77128.0\n",
       "harrow                      78921.0\n",
       "haringey                    81162.0\n",
       "brent                       81613.0\n",
       "hounslow                    85472.0\n",
       "newham                      86236.0\n",
       "merton                      87262.0\n",
       "sutton                      91399.0\n",
       "waltham forest              92938.0\n",
       "greenwich                   94126.0\n",
       "havering                    95135.0\n",
       "richmond upon thames        97074.0\n",
       "bexley                      97351.0"
      ]
     },
     "execution_count": 21,
     "metadata": {},
     "output_type": "execute_result"
    }
   ],
   "source": [
    "Low_Sales_Areas = pd.DataFrame(df.groupby('area')['houses_sold'].sum().sort_values())[:20]\n",
    "Low_Sales_Areas"
   ]
  },
  {
   "cell_type": "code",
   "execution_count": 41,
   "id": "d8ede8ef-1fd3-4f9b-81b8-011b7de62a77",
   "metadata": {},
   "outputs": [
    {
     "data": {
      "text/plain": [
       "area\n",
       "england                   23077637.0\n",
       "south east                 4195116.0\n",
       "london                     3134378.0\n",
       "north west                 2895280.0\n",
       "east of england            2809800.0\n",
       "south west                 2639661.0\n",
       "yorks and the humber       2183762.0\n",
       "west midlands              2128978.0\n",
       "east midlands              2033724.0\n",
       "outer london               1897009.0\n",
       "inner london               1233831.0\n",
       "north east                 1033675.0\n",
       "wandsworth                  163871.0\n",
       "bromley                     148516.0\n",
       "croydon                     145906.0\n",
       "barnet                      133648.0\n",
       "lambeth                     117953.0\n",
       "enfield                     115249.0\n",
       "ealing                      110042.0\n",
       "lewisham                    108123.0\n",
       "westminster                 106694.0\n",
       "hillingdon                  104721.0\n",
       "redbridge                   102511.0\n",
       "tower hamlets               101857.0\n",
       "southwark                    99714.0\n",
       "bexley                       97351.0\n",
       "richmond upon thames         97074.0\n",
       "havering                     95135.0\n",
       "greenwich                    94126.0\n",
       "waltham forest               92938.0\n",
       "sutton                       91399.0\n",
       "merton                       87262.0\n",
       "newham                       86236.0\n",
       "hounslow                     85472.0\n",
       "brent                        81613.0\n",
       "haringey                     81162.0\n",
       "harrow                       78921.0\n",
       "kensington and chelsea       77128.0\n",
       "kingston upon thames         75627.0\n",
       "hammersmith and fulham       75518.0\n",
       "camden                       74362.0\n",
       "islington                    68271.0\n",
       "hackney                      65356.0\n",
       "barking and dagenham         59498.0\n",
       "city of london                7586.0\n",
       "Name: houses_sold, dtype: float64"
      ]
     },
     "execution_count": 41,
     "metadata": {},
     "output_type": "execute_result"
    }
   ],
   "source": [
    "Low_Sales_Areas = df.groupby('area')['houses_sold'].sum().sort_values(ascending = False)\n",
    "Low_Sales_Areas"
   ]
  },
  {
   "cell_type": "code",
   "execution_count": 23,
   "id": "5415af8c-76e2-476f-92d6-2faec9db9e1f",
   "metadata": {},
   "outputs": [
    {
     "data": {
      "image/png": "[encoded data removed]",
      "text/plain": [
       "<Figure size 400x800 with 1 Axes>"
      ]
     },
     "metadata": {},
     "output_type": "display_data"
    }
   ],
   "source": [
    "plt.figure(figsize = (4, 8))\n",
    "Low_Sales_Areas.plot(kind = 'barh', color = ['green', 'yellow', 'darkred', 'black', 'blue', 'gold', 'orange'])\n",
    "plt.title('Areas where houses were least sold')\n",
    "plt.ylabel('Areas were houses are sold')\n",
    "plt.xlabel('Quantity of houses sold')\n",
    "plt.show()"
   ]
  },
  {
   "cell_type": "markdown",
   "id": "97e0756e-757b-4868-bfe4-e0d799f82391",
   "metadata": {},
   "source": [
    "#### Houses were least sold in City of London, followed by Barking and Dagenham, then Hackney"
   ]
  },
  {
   "cell_type": "markdown",
   "id": "8a3c8064-123c-4fe9-b4c7-68203a61eb0b",
   "metadata": {},
   "source": [
    "## Quantity of Houses Sold Per Year"
   ]
  },
  {
   "cell_type": "code",
   "execution_count": 24,
   "id": "0e7c342d-d474-49db-9d45-751bece4b047",
   "metadata": {},
   "outputs": [
    {
     "data": {
      "text/html": [
       "<div>\n",
       "<style scoped>\n",
       "    .dataframe tbody tr th:only-of-type {\n",
       "        vertical-align: middle;\n",
       "    }\n",
       "\n",
       "    .dataframe tbody tr th {\n",
       "        vertical-align: top;\n",
       "    }\n",
       "\n",
       "    .dataframe thead th {\n",
       "        text-align: right;\n",
       "    }\n",
       "</style>\n",
       "<table border=\"1\" class=\"dataframe\">\n",
       "  <thead>\n",
       "    <tr style=\"text-align: right;\">\n",
       "      <th></th>\n",
       "      <th>date</th>\n",
       "      <th>area</th>\n",
       "      <th>average_price</th>\n",
       "      <th>code</th>\n",
       "      <th>houses_sold</th>\n",
       "      <th>no_of_crimes</th>\n",
       "      <th>year</th>\n",
       "      <th>month</th>\n",
       "    </tr>\n",
       "  </thead>\n",
       "  <tbody>\n",
       "    <tr>\n",
       "      <th>0</th>\n",
       "      <td>1995-01-01</td>\n",
       "      <td>city of london</td>\n",
       "      <td>91449</td>\n",
       "      <td>E09000001</td>\n",
       "      <td>17.0</td>\n",
       "      <td>NaN</td>\n",
       "      <td>1995</td>\n",
       "      <td>1</td>\n",
       "    </tr>\n",
       "  </tbody>\n",
       "</table>\n",
       "</div>"
      ],
      "text/plain": [
       "        date            area  average_price       code  houses_sold  \\\n",
       "0 1995-01-01  city of london          91449  E09000001         17.0   \n",
       "\n",
       "   no_of_crimes  year  month  \n",
       "0           NaN  1995      1  "
      ]
     },
     "execution_count": 24,
     "metadata": {},
     "output_type": "execute_result"
    }
   ],
   "source": [
    "df.head(1)"
   ]
  },
  {
   "cell_type": "code",
   "execution_count": 25,
   "id": "0e492bc9-df4c-4bc8-8631-09fb7881508d",
   "metadata": {},
   "outputs": [
    {
     "data": {
      "text/html": [
       "<div>\n",
       "<style scoped>\n",
       "    .dataframe tbody tr th:only-of-type {\n",
       "        vertical-align: middle;\n",
       "    }\n",
       "\n",
       "    .dataframe tbody tr th {\n",
       "        vertical-align: top;\n",
       "    }\n",
       "\n",
       "    .dataframe thead th {\n",
       "        text-align: right;\n",
       "    }\n",
       "</style>\n",
       "<table border=\"1\" class=\"dataframe\">\n",
       "  <thead>\n",
       "    <tr style=\"text-align: right;\">\n",
       "      <th></th>\n",
       "      <th>houses_sold</th>\n",
       "    </tr>\n",
       "    <tr>\n",
       "      <th>year</th>\n",
       "      <th></th>\n",
       "    </tr>\n",
       "  </thead>\n",
       "  <tbody>\n",
       "    <tr>\n",
       "      <th>2020</th>\n",
       "      <td>0.0</td>\n",
       "    </tr>\n",
       "    <tr>\n",
       "      <th>2009</th>\n",
       "      <td>1328088.0</td>\n",
       "    </tr>\n",
       "    <tr>\n",
       "      <th>2008</th>\n",
       "      <td>1377018.0</td>\n",
       "    </tr>\n",
       "    <tr>\n",
       "      <th>2011</th>\n",
       "      <td>1430736.0</td>\n",
       "    </tr>\n",
       "    <tr>\n",
       "      <th>2010</th>\n",
       "      <td>1436870.0</td>\n",
       "    </tr>\n",
       "    <tr>\n",
       "      <th>2012</th>\n",
       "      <td>1456790.0</td>\n",
       "    </tr>\n",
       "    <tr>\n",
       "      <th>2019</th>\n",
       "      <td>1572378.0</td>\n",
       "    </tr>\n",
       "    <tr>\n",
       "      <th>1995</th>\n",
       "      <td>1716954.0</td>\n",
       "    </tr>\n",
       "    <tr>\n",
       "      <th>2013</th>\n",
       "      <td>1744080.0</td>\n",
       "    </tr>\n",
       "    <tr>\n",
       "      <th>2018</th>\n",
       "      <td>1844249.0</td>\n",
       "    </tr>\n",
       "    <tr>\n",
       "      <th>2017</th>\n",
       "      <td>1944956.0</td>\n",
       "    </tr>\n",
       "    <tr>\n",
       "      <th>2016</th>\n",
       "      <td>1988838.0</td>\n",
       "    </tr>\n",
       "    <tr>\n",
       "      <th>2015</th>\n",
       "      <td>2023310.0</td>\n",
       "    </tr>\n",
       "    <tr>\n",
       "      <th>2014</th>\n",
       "      <td>2046326.0</td>\n",
       "    </tr>\n",
       "    <tr>\n",
       "      <th>1996</th>\n",
       "      <td>2086378.0</td>\n",
       "    </tr>\n",
       "    <tr>\n",
       "      <th>2005</th>\n",
       "      <td>2269336.0</td>\n",
       "    </tr>\n",
       "    <tr>\n",
       "      <th>1998</th>\n",
       "      <td>2273358.0</td>\n",
       "    </tr>\n",
       "    <tr>\n",
       "      <th>1997</th>\n",
       "      <td>2370056.0</td>\n",
       "    </tr>\n",
       "    <tr>\n",
       "      <th>2000</th>\n",
       "      <td>2415180.0</td>\n",
       "    </tr>\n",
       "    <tr>\n",
       "      <th>1999</th>\n",
       "      <td>2597008.0</td>\n",
       "    </tr>\n",
       "    <tr>\n",
       "      <th>2003</th>\n",
       "      <td>2653878.0</td>\n",
       "    </tr>\n",
       "    <tr>\n",
       "      <th>2001</th>\n",
       "      <td>2661822.0</td>\n",
       "    </tr>\n",
       "    <tr>\n",
       "      <th>2004</th>\n",
       "      <td>2712216.0</td>\n",
       "    </tr>\n",
       "    <tr>\n",
       "      <th>2007</th>\n",
       "      <td>2727506.0</td>\n",
       "    </tr>\n",
       "    <tr>\n",
       "      <th>2006</th>\n",
       "      <td>2841060.0</td>\n",
       "    </tr>\n",
       "    <tr>\n",
       "      <th>2002</th>\n",
       "      <td>2875300.0</td>\n",
       "    </tr>\n",
       "  </tbody>\n",
       "</table>\n",
       "</div>"
      ],
      "text/plain": [
       "      houses_sold\n",
       "year             \n",
       "2020          0.0\n",
       "2009    1328088.0\n",
       "2008    1377018.0\n",
       "2011    1430736.0\n",
       "2010    1436870.0\n",
       "2012    1456790.0\n",
       "2019    1572378.0\n",
       "1995    1716954.0\n",
       "2013    1744080.0\n",
       "2018    1844249.0\n",
       "2017    1944956.0\n",
       "2016    1988838.0\n",
       "2015    2023310.0\n",
       "2014    2046326.0\n",
       "1996    2086378.0\n",
       "2005    2269336.0\n",
       "1998    2273358.0\n",
       "1997    2370056.0\n",
       "2000    2415180.0\n",
       "1999    2597008.0\n",
       "2003    2653878.0\n",
       "2001    2661822.0\n",
       "2004    2712216.0\n",
       "2007    2727506.0\n",
       "2006    2841060.0\n",
       "2002    2875300.0"
      ]
     },
     "execution_count": 25,
     "metadata": {},
     "output_type": "execute_result"
    }
   ],
   "source": [
    "House_Sale_By_Year = pd.DataFrame(df.groupby('year')['houses_sold'].sum().sort_values())\n",
    "House_Sale_By_Year"
   ]
  },
  {
   "cell_type": "code",
   "execution_count": 26,
   "id": "da6831a4-e4b8-4e29-aabc-ae19d18c9e58",
   "metadata": {},
   "outputs": [
    {
     "data": {
      "text/plain": [
       "year\n",
       "2020          0.0\n",
       "2009    1328088.0\n",
       "2008    1377018.0\n",
       "2011    1430736.0\n",
       "2010    1436870.0\n",
       "2012    1456790.0\n",
       "2019    1572378.0\n",
       "1995    1716954.0\n",
       "2013    1744080.0\n",
       "2018    1844249.0\n",
       "2017    1944956.0\n",
       "2016    1988838.0\n",
       "2015    2023310.0\n",
       "2014    2046326.0\n",
       "1996    2086378.0\n",
       "2005    2269336.0\n",
       "1998    2273358.0\n",
       "1997    2370056.0\n",
       "2000    2415180.0\n",
       "1999    2597008.0\n",
       "2003    2653878.0\n",
       "2001    2661822.0\n",
       "2004    2712216.0\n",
       "2007    2727506.0\n",
       "2006    2841060.0\n",
       "2002    2875300.0\n",
       "Name: houses_sold, dtype: float64"
      ]
     },
     "execution_count": 26,
     "metadata": {},
     "output_type": "execute_result"
    }
   ],
   "source": [
    "House_Sale_By_Year = df.groupby('year')['houses_sold'].sum().sort_values()\n",
    "House_Sale_By_Year"
   ]
  },
  {
   "cell_type": "code",
   "execution_count": 27,
   "id": "c1d61b11-5b6b-4ef5-aac5-f354e28acfa7",
   "metadata": {},
   "outputs": [
    {
     "data": {
      "image/png": "[encoded data removed]",
      "text/plain": [
       "<Figure size 400x800 with 1 Axes>"
      ]
     },
     "metadata": {},
     "output_type": "display_data"
    }
   ],
   "source": [
    "plt.figure(figsize = (4, 8))\n",
    "House_Sale_By_Year.plot(kind = 'barh', color = ['green', 'yellow', 'darkred', 'black', 'blue', 'gold', 'orange'])\n",
    "plt.title('Number of Houses Sold VS Year')\n",
    "plt.ylabel('Years')\n",
    "plt.xlabel('Quantity of houses sold')\n",
    "plt.show()"
   ]
  },
  {
   "cell_type": "markdown",
   "id": "46d2ed4e-c9fc-4c47-ae34-2e9df1583560",
   "metadata": {},
   "source": [
    "### Houses were sold the most in 2002 followed by 2006 and 2007"
   ]
  },
  {
   "cell_type": "markdown",
   "id": "0dff7ae1-c53b-4901-b6cc-f010df60b596",
   "metadata": {},
   "source": [
    "## Areas VS Average Prices of House"
   ]
  },
  {
   "cell_type": "code",
   "execution_count": 28,
   "id": "06584ca6-24d7-4657-b5ec-389ac4bd1c42",
   "metadata": {},
   "outputs": [
    {
     "data": {
      "text/html": [
       "<div>\n",
       "<style scoped>\n",
       "    .dataframe tbody tr th:only-of-type {\n",
       "        vertical-align: middle;\n",
       "    }\n",
       "\n",
       "    .dataframe tbody tr th {\n",
       "        vertical-align: top;\n",
       "    }\n",
       "\n",
       "    .dataframe thead th {\n",
       "        text-align: right;\n",
       "    }\n",
       "</style>\n",
       "<table border=\"1\" class=\"dataframe\">\n",
       "  <thead>\n",
       "    <tr style=\"text-align: right;\">\n",
       "      <th></th>\n",
       "      <th>date</th>\n",
       "      <th>area</th>\n",
       "      <th>average_price</th>\n",
       "      <th>code</th>\n",
       "      <th>houses_sold</th>\n",
       "      <th>no_of_crimes</th>\n",
       "      <th>year</th>\n",
       "      <th>month</th>\n",
       "    </tr>\n",
       "  </thead>\n",
       "  <tbody>\n",
       "    <tr>\n",
       "      <th>0</th>\n",
       "      <td>1995-01-01</td>\n",
       "      <td>city of london</td>\n",
       "      <td>91449</td>\n",
       "      <td>E09000001</td>\n",
       "      <td>17.0</td>\n",
       "      <td>NaN</td>\n",
       "      <td>1995</td>\n",
       "      <td>1</td>\n",
       "    </tr>\n",
       "  </tbody>\n",
       "</table>\n",
       "</div>"
      ],
      "text/plain": [
       "        date            area  average_price       code  houses_sold  \\\n",
       "0 1995-01-01  city of london          91449  E09000001         17.0   \n",
       "\n",
       "   no_of_crimes  year  month  \n",
       "0           NaN  1995      1  "
      ]
     },
     "execution_count": 28,
     "metadata": {},
     "output_type": "execute_result"
    }
   ],
   "source": [
    "df.head(1)"
   ]
  },
  {
   "cell_type": "code",
   "execution_count": 38,
   "id": "16018b62-afe8-4aed-b23a-2aa958defa7c",
   "metadata": {
    "scrolled": true
   },
   "outputs": [
    {
     "data": {
      "text/plain": [
       "area\n",
       "kensington and chelsea    223360171\n",
       "westminster               163703647\n",
       "camden                    140717774\n",
       "hammersmith and fulham    133581350\n",
       "city of london            127606718\n",
       "richmond upon thames      115167404\n",
       "islington                 109921503\n",
       "wandsworth                103033564\n",
       "inner london               94813321\n",
       "barnet                     91802318\n",
       "haringey                   88183860\n",
       "hackney                    86065570\n",
       "kingston upon thames       84788216\n",
       "merton                     84670929\n",
       "lambeth                    84098927\n",
       "southwark                  82776379\n",
       "ealing                     82635734\n",
       "brent                      81357667\n",
       "harrow                     81039164\n",
       "london                     79920745\n",
       "tower hamlets              77690411\n",
       "bromley                    76502347\n",
       "outer london               72049172\n",
       "hounslow                   71025592\n",
       "redbridge                  70763028\n",
       "hillingdon                 70254884\n",
       "enfield                    67385450\n",
       "waltham forest             66338943\n",
       "sutton                     65399307\n",
       "lewisham                   65197170\n",
       "greenwich                  64129998\n",
       "croydon                    63014251\n",
       "havering                   61713026\n",
       "south east                 59212257\n",
       "newham                     58889466\n",
       "bexley                     57060792\n",
       "east of england            51525851\n",
       "south west                 49169329\n",
       "barking and dagenham       48115732\n",
       "england                    46073722\n",
       "west midlands              38257955\n",
       "east midlands              36616617\n",
       "yorks and the humber       32842916\n",
       "north west                 32745662\n",
       "north east                 29209364\n",
       "Name: average_price, dtype: int64"
      ]
     },
     "execution_count": 38,
     "metadata": {},
     "output_type": "execute_result"
    }
   ],
   "source": [
    "Houses_Prices_By_Area = df.groupby('area')['average_price'].sum().sort_values(ascending = False)\n",
    "Houses_Prices_By_Area"
   ]
  },
  {
   "cell_type": "code",
   "execution_count": 49,
   "id": "c5e0e71b-c373-4bba-87d3-4117860676db",
   "metadata": {},
   "outputs": [
    {
     "data": {
      "image/png": "[encoded data removed]",
      "text/plain": [
       "<Figure size 600x2000 with 1 Axes>"
      ]
     },
     "metadata": {},
     "output_type": "display_data"
    }
   ],
   "source": [
    "plt.figure(figsize = (6,20))\n",
    "Houses_Prices_By_Area.plot(kind = 'barh', color = ['green', 'yellow', 'darkred', 'black', 'blue', 'gold', 'orange'])\n",
    "plt.show()"
   ]
  },
  {
   "cell_type": "markdown",
   "id": "f8be89da-dfd4-4c68-a2f1-66e2a9cba3d7",
   "metadata": {},
   "source": [
    "#### The first three areas where houses were sold are Kensington and Chelsea; Westminster and Camden whereas the last three areas with the lowest average price of houses are north east, north west and yorks and the humber"
   ]
  },
  {
   "cell_type": "markdown",
   "id": "604349a2-bb92-4bed-b106-0083691c4c5c",
   "metadata": {},
   "source": [
    "# SUMMARY"
   ]
  },
  {
   "cell_type": "markdown",
   "id": "12e34ac7-8a91-4ae9-8d4a-b925203045e0",
   "metadata": {},
   "source": [
    "##### The first three areas where houses were sold with highest average price are Kensington and Chelsea; Westminster and Camden whereas the last three areas with the lowest average price of houses are north east, north west and yorks and the humber\n",
    "##### Houses were sold the most in 2002 followed by 2006 and 2007\n",
    "##### Houses were least sold in City of London, followed by Barking and Dagenham, then Hackney\n",
    "##### England witnessed the most sold houses, next by South East and London before other areas.\n",
    "##### Areas with the highest crime were topped by Westminster, followed by Lambeth, then Camden etc."
   ]
  },
  {
   "cell_type": "markdown",
   "id": "f3964511-f12b-486b-a9c3-30ac4b8e2813",
   "metadata": {},
   "source": [
    "# RECOMMENDATION"
   ]
  },
  {
   "cell_type": "markdown",
   "id": "2960844b-b9b8-437c-9fab-5551211afce5",
   "metadata": {},
   "source": [
    "##### House agents should focus more on selling houses in England, South East and London compared to other areas. \n",
    "##### Government should encorage more of enforcement agent activities in the areas most vulnerable to crimes. The area include Westminster, followed by Lambeth, then Camden etc."
   ]
  },
  {
   "cell_type": "code",
   "execution_count": null,
   "id": "84c0afce-fb01-4e38-b61f-7bc288c106e5",
   "metadata": {},
   "outputs": [],
   "source": []
  }
 ],
 "metadata": {
  "kernelspec": {
   "display_name": "Python 3 (ipykernel)",
   "language": "python",
   "name": "python3"
  },
  "language_info": {
   "codemirror_mode": {
    "name": "ipython",
    "version": 3
   },
   "file_extension": ".py",
   "mimetype": "text/x-python",
   "name": "python",
   "nbconvert_exporter": "python",
   "pygments_lexer": "ipython3",
   "version": "3.12.0"
  }
 },
 "nbformat": 4,
 "nbformat_minor": 5
}
